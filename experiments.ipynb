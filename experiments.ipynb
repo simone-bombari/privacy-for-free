{
 "cells": [
  {
   "cell_type": "code",
   "execution_count": 1,
   "id": "254d3fd7-fa03-4b26-bec3-25db3bed89fd",
   "metadata": {},
   "outputs": [],
   "source": [
    "import numpy as np\n",
    "import os\n",
    "import time\n",
    "from utils import *"
   ]
  },
  {
   "cell_type": "code",
   "execution_count": 2,
   "id": "992f9daf-4134-455c-bb1c-24dc4b912190",
   "metadata": {},
   "outputs": [],
   "source": [
    "phi = relu\n",
    "dev_phi = dev_relu\n",
    "\n",
    "fmap = 'rf'"
   ]
  },
  {
   "cell_type": "code",
   "execution_count": 32,
   "id": "60a7f63e-ff0e-4206-8a34-2f38ecb456df",
   "metadata": {},
   "outputs": [],
   "source": [
    "ks = [10000]\n",
    "d = 1000\n",
    "Ns = [3000]\n",
    "Nt = 100"
   ]
  },
  {
   "cell_type": "code",
   "execution_count": 33,
   "id": "547c3b9e-37d1-48ec-ac00-aa2f4e1405a7",
   "metadata": {},
   "outputs": [],
   "source": [
    "testr = []\n",
    "test = []\n",
    "\n",
    "\n",
    "for N in Ns:\n",
    "    for k in ks:\n",
    "    # Dataset\n",
    "       \n",
    "        dy = d // 2\n",
    "        dx = d - dy\n",
    "\n",
    "        u = np.random.randn(dx) / np.sqrt(dx)\n",
    "\n",
    "        X = np.random.randn(N, dx)\n",
    "        Y = np.random.randn(N, dy)\n",
    "        Z = np.concatenate((X, Y), axis=1)  # training data\n",
    "\n",
    "        G = np.sign(X @ u)\n",
    "\n",
    "        Xa = np.random.randn(N, dx)\n",
    "        Za = np.concatenate((Xa, Y), axis=1)  # attack data\n",
    "\n",
    "        Xt = np.random.randn(Nt, dx)\n",
    "        Yt = np.random.randn(Nt, dy)\n",
    "        Zt = np.concatenate((Xt, Yt), axis=1)  # test data\n",
    "\n",
    "        Gt = np.sign(Xt @ u)\n",
    "    \n",
    "        # Feature Map\n",
    "    \n",
    "\n",
    "        V = np.random.randn(k, d) / np.sqrt(d)\n",
    "        \n",
    "        Phi = phi(Z @ V.transpose())\n",
    "        Phi_a = phi(Za @ V.transpose())\n",
    "        Phi_t = phi(Zt @ V.transpose())\n",
    "        \n",
    "        V_inv =  np.linalg.pinv(V.transpose())\n",
    "        P = V_inv @ V.transpose()\n",
    "        # Sigma = V_inv @ V_inv.transpose()\n",
    "\n",
    "    \n",
    "        # Solution\n",
    "        # K_r = Phi_1 @ Phi_1.transpose()\n",
    "        K_inv = np.linalg.inv(Phi @ Phi.transpose())\n",
    "        pPhi = Phi.transpose() @ K_inv\n",
    "\n",
    "        # Sigma = np.linalg.inv(d * k / 2 * np.eye(d * k) + Phi_1.transpose() @ Phi_1)\n",
    "        eps = np.sqrt(d) / (100 * k) * V @ np.random.randn(d)  # np.random.multivariate_normal(np.zeros(k), Sigma)  #  * np.sqrt(d / N)\n",
    "        \n",
    "        theta = np.linalg.pinv(Phi) @ G\n",
    "        theta_1 = 0.5 * V @ Z.transpose() @ K_inv @ G + eps\n",
    "        theta_2 = P @ theta + eps\n",
    "    \n",
    "        # Scores\n",
    "    \n",
    "        score_attack = 0\n",
    "        for i in range(N):\n",
    "            if np.inner(Phi_a[i], theta) * G[i] > 0:\n",
    "                score_attack += 1\n",
    "        score_attack /= N\n",
    "    \n",
    "        score_test = 0\n",
    "        for i in range(Nt):\n",
    "            if np.inner(Phi_t[i], theta) * Gt[i] > 0:\n",
    "                score_test += 1\n",
    "        score_test /= Nt\n",
    "    \n",
    "        score_train = 0  # sanity check\n",
    "        for i in range(N):\n",
    "            if np.inner(Phi[i], theta) * G[i] > 0:\n",
    "                score_train += 1\n",
    "        score_train /= N\n",
    "    \n",
    "    \n",
    "        # Scores 1\n",
    "    \n",
    "        score_attack_1 = 0\n",
    "        for i in range(N):\n",
    "            if np.inner(Phi_a[i], theta_1) * G[i] > 0:\n",
    "                score_attack_1 += 1\n",
    "        score_attack_1 /= N\n",
    "    \n",
    "        score_test_1 = 0\n",
    "        for i in range(Nt):\n",
    "            if np.inner(Phi_t[i], theta_1) * Gt[i] > 0:\n",
    "                score_test_1 += 1\n",
    "        score_test_1 /= Nt\n",
    "    \n",
    "        score_train_1 = 0\n",
    "        for i in range(N):\n",
    "            if np.inner(Phi[i], theta_1) * G[i] > 0:\n",
    "                score_train_1 += 1\n",
    "        score_train_1 /= N\n",
    "    \n",
    "    \n",
    "        # Scores 2\n",
    "    \n",
    "        score_attack_2 = 0\n",
    "        for i in range(N):\n",
    "            if np.inner(Phi_a[i], theta_2) * G[i] > 0:\n",
    "                score_attack_2 += 1\n",
    "        score_attack_2 /= N\n",
    "    \n",
    "        score_test_2 = 0\n",
    "        for i in range(Nt):\n",
    "            if np.inner(Phi_t[i], theta_2) * Gt[i] > 0:\n",
    "                score_test_2 += 1\n",
    "        score_test_2 /= Nt\n",
    "    \n",
    "        score_train_2 = 0\n",
    "        for i in range(N):\n",
    "            if np.inner(Phi[i], theta_2) * G[i] > 0:\n",
    "                score_train_2 += 1\n",
    "        score_train_2 /= N\n",
    "    \n",
    "    "
   ]
  },
  {
   "cell_type": "code",
   "execution_count": 34,
   "id": "ba4ad23f-02f3-4b2f-9ed4-4cb5dfaf3ae7",
   "metadata": {},
   "outputs": [
    {
     "data": {
      "text/plain": [
       "17.474462199834413"
      ]
     },
     "execution_count": 34,
     "metadata": {},
     "output_type": "execute_result"
    }
   ],
   "source": [
    "# z_t = np.random.randn(d)\n",
    "y = np.random.randn(dy)\n",
    "z_t = np.concatenate((np.sqrt(dx) * u, y))\n",
    "phi_z = phi(V @ z_t)\n",
    "\n",
    "f = theta.transpose() @ phi_z\n",
    "f"
   ]
  },
  {
   "cell_type": "code",
   "execution_count": 71,
   "id": "1740960b-8c5e-490f-a33d-4f16e850870d",
   "metadata": {},
   "outputs": [],
   "source": [
    "phi = relu\n",
    "dev_phi = dev_relu\n",
    "\n",
    "gt = 'sign'\n",
    "\n",
    "k = 10000\n",
    "d = 100\n",
    "N = 1000\n",
    "\n",
    "# xt = np.random.randn(d)\n",
    "u = np.random.randn(d) / np.sqrt(d)\n",
    "X = np.random.randn(N, d) #  + np.outer(np.ones(N), xt) / np.sqrt(d)"
   ]
  },
  {
   "cell_type": "code",
   "execution_count": 72,
   "id": "81cc56d7-32ef-4160-88eb-2c4493ba6ecd",
   "metadata": {},
   "outputs": [],
   "source": [
    "if 'sign' in gt:\n",
    "    G = np.sign(X @ u)\n",
    "    xt = np.sqrt(d) * X.transpose() @ G / np.linalg.norm(X.transpose() @ G)\n",
    "    Gt = np.sign(np.inner(xt, u)) # np.sign(Xt @ u)\n",
    "elif 'linear' in gt:\n",
    "    G = X @ u\n",
    "    xt = np.sqrt(d) * X.transpose() @ G / np.linalg.norm(X.transpose() @ G)\n",
    "    Gt = np.inner(xt, u) # Xt @ u\n",
    "elif 'square' in gt:\n",
    "    G = (X @ u) ** 2\n",
    "    xt = np.sqrt(d) * X.transpose() @ G / np.linalg.norm(X.transpose() @ G)\n",
    "    Gt = (np.inner(xt, u)) ** 2 # (Xt @ u) ** 2\n",
    "\n",
    "V = np.random.randn(k, d) / np.sqrt(d)\n",
    "Phi = phi(X @ V.transpose())\n",
    "phi_t = phi(V @ xt)\n",
    "\n",
    "V_inv =  np.linalg.pinv(V.transpose())\n",
    "P = V_inv @ V.transpose()\n",
    "\n",
    "# ort_test = (np.eye(k) - P) @ Phi_t[0]\n",
    "    \n",
    "theta = np.linalg.pinv(Phi) @ G\n",
    "theta_1 = P @ theta\n",
    "\n",
    "\n",
    "test_loss = np.linalg.norm(np.inner(phi_t, theta) - Gt) ** 2\n",
    "train_loss = np.linalg.norm(Phi @ theta - G) ** 2 / N\n",
    "test_loss_1 = np.linalg.norm(np.inner(phi_t, theta_1) - Gt) ** 2\n",
    "train_loss_1 = np.linalg.norm(Phi @ theta_1 - G) ** 2 / N"
   ]
  },
  {
   "cell_type": "code",
   "execution_count": 74,
   "id": "f9c2163d-6a46-4721-b406-420c4eacb9ad",
   "metadata": {},
   "outputs": [
    {
     "data": {
      "text/plain": [
       "42.20519857915207"
      ]
     },
     "execution_count": 74,
     "metadata": {},
     "output_type": "execute_result"
    }
   ],
   "source": [
    "test_loss_1"
   ]
  },
  {
   "cell_type": "code",
   "execution_count": 23,
   "id": "fa55ada1-8eac-458f-b208-6fe9d1d93334",
   "metadata": {},
   "outputs": [
    {
     "data": {
      "text/plain": [
       "array([[-1.60096694,  0.27174977, -0.21172676, ..., -0.48479041,\n",
       "        -0.96792269,  1.63459134],\n",
       "       [ 0.13787489,  0.77991542,  0.25285986, ..., -0.94782649,\n",
       "         0.8341446 , -0.35706429],\n",
       "       [-0.47516119,  0.61757114, -0.13649291, ...,  0.07088566,\n",
       "         1.17678482,  1.75481149],\n",
       "       ...,\n",
       "       [-0.59335394, -1.00680831,  0.42989737, ...,  2.33793473,\n",
       "         0.29115917,  0.47490082],\n",
       "       [-0.12345399,  0.32266323, -0.12814617, ...,  2.43098824,\n",
       "         1.74532975,  0.2274105 ],\n",
       "       [ 1.00606762,  0.67662096,  0.8584355 , ...,  0.44042554,\n",
       "         1.9993179 ,  0.14236148]])"
      ]
     },
     "execution_count": 23,
     "metadata": {},
     "output_type": "execute_result"
    }
   ],
   "source": []
  },
  {
   "cell_type": "code",
   "execution_count": null,
   "id": "476744f0-57cf-4c63-addd-a0d214832db1",
   "metadata": {},
   "outputs": [],
   "source": []
  }
 ],
 "metadata": {
  "kernelspec": {
   "display_name": "Python 3 (ipykernel)",
   "language": "python",
   "name": "python3"
  },
  "language_info": {
   "codemirror_mode": {
    "name": "ipython",
    "version": 3
   },
   "file_extension": ".py",
   "mimetype": "text/x-python",
   "name": "python",
   "nbconvert_exporter": "python",
   "pygments_lexer": "ipython3",
   "version": "3.9.9"
  }
 },
 "nbformat": 4,
 "nbformat_minor": 5
}
